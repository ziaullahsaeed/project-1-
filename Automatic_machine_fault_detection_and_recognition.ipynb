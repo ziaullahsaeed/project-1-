{
  "nbformat": 4,
  "nbformat_minor": 0,
  "metadata": {
    "colab": {
      "provenance": []
    },
    "kernelspec": {
      "name": "python3",
      "display_name": "Python 3"
    },
    "language_info": {
      "name": "python"
    }
  },
  "cells": [
    {
      "cell_type": "code",
      "execution_count": null,
      "metadata": {
        "colab": {
          "base_uri": "https://localhost:8080/"
        },
        "id": "9y2r1hUBcOX6",
        "outputId": "eb6a7ca4-9143-4b2f-f8af-1f24a6a6810b"
      },
      "outputs": [
        {
          "output_type": "stream",
          "name": "stdout",
          "text": [
            "\u001b[33mWARNING: Skipping librosa as it is not installed.\u001b[0m\u001b[33m\n",
            "\u001b[0m\u001b[33mWARNING: Skipping resampy as it is not installed.\u001b[0m\u001b[33m\n",
            "\u001b[0mCollecting librosa\n",
            "  Downloading librosa-0.10.1-py3-none-any.whl (253 kB)\n",
            "\u001b[2K     \u001b[90m━━━━━━━━━━━━━━━━━━━━━━━━━━━━━━━━━━━━━━━━\u001b[0m \u001b[32m253.7/253.7 kB\u001b[0m \u001b[31m5.0 MB/s\u001b[0m eta \u001b[36m0:00:00\u001b[0m\n",
            "\u001b[?25hCollecting resampy\n",
            "  Downloading resampy-0.4.3-py3-none-any.whl (3.1 MB)\n",
            "\u001b[2K     \u001b[90m━━━━━━━━━━━━━━━━━━━━━━━━━━━━━━━━━━━━━━━━\u001b[0m \u001b[32m3.1/3.1 MB\u001b[0m \u001b[31m16.9 MB/s\u001b[0m eta \u001b[36m0:00:00\u001b[0m\n",
            "\u001b[?25hRequirement already satisfied: audioread>=2.1.9 in /usr/local/lib/python3.10/dist-packages (from librosa) (3.0.1)\n",
            "Requirement already satisfied: numpy!=1.22.0,!=1.22.1,!=1.22.2,>=1.20.3 in /usr/local/lib/python3.10/dist-packages (from librosa) (1.25.2)\n",
            "Requirement already satisfied: scipy>=1.2.0 in /usr/local/lib/python3.10/dist-packages (from librosa) (1.11.4)\n",
            "Requirement already satisfied: scikit-learn>=0.20.0 in /usr/local/lib/python3.10/dist-packages (from librosa) (1.2.2)\n",
            "Requirement already satisfied: joblib>=0.14 in /usr/local/lib/python3.10/dist-packages (from librosa) (1.3.2)\n",
            "Requirement already satisfied: decorator>=4.3.0 in /usr/local/lib/python3.10/dist-packages (from librosa) (4.4.2)\n",
            "Requirement already satisfied: numba>=0.51.0 in /usr/local/lib/python3.10/dist-packages (from librosa) (0.58.1)\n",
            "Requirement already satisfied: soundfile>=0.12.1 in /usr/local/lib/python3.10/dist-packages (from librosa) (0.12.1)\n",
            "Requirement already satisfied: pooch>=1.0 in /usr/local/lib/python3.10/dist-packages (from librosa) (1.8.1)\n",
            "Requirement already satisfied: soxr>=0.3.2 in /usr/local/lib/python3.10/dist-packages (from librosa) (0.3.7)\n",
            "Requirement already satisfied: typing-extensions>=4.1.1 in /usr/local/lib/python3.10/dist-packages (from librosa) (4.10.0)\n",
            "Requirement already satisfied: lazy-loader>=0.1 in /usr/local/lib/python3.10/dist-packages (from librosa) (0.3)\n",
            "Requirement already satisfied: msgpack>=1.0 in /usr/local/lib/python3.10/dist-packages (from librosa) (1.0.8)\n",
            "Requirement already satisfied: llvmlite<0.42,>=0.41.0dev0 in /usr/local/lib/python3.10/dist-packages (from numba>=0.51.0->librosa) (0.41.1)\n",
            "Requirement already satisfied: platformdirs>=2.5.0 in /usr/local/lib/python3.10/dist-packages (from pooch>=1.0->librosa) (4.2.0)\n",
            "Requirement already satisfied: packaging>=20.0 in /usr/local/lib/python3.10/dist-packages (from pooch>=1.0->librosa) (24.0)\n",
            "Requirement already satisfied: requests>=2.19.0 in /usr/local/lib/python3.10/dist-packages (from pooch>=1.0->librosa) (2.31.0)\n",
            "Requirement already satisfied: threadpoolctl>=2.0.0 in /usr/local/lib/python3.10/dist-packages (from scikit-learn>=0.20.0->librosa) (3.3.0)\n",
            "Requirement already satisfied: cffi>=1.0 in /usr/local/lib/python3.10/dist-packages (from soundfile>=0.12.1->librosa) (1.16.0)\n",
            "Requirement already satisfied: pycparser in /usr/local/lib/python3.10/dist-packages (from cffi>=1.0->soundfile>=0.12.1->librosa) (2.21)\n",
            "Requirement already satisfied: charset-normalizer<4,>=2 in /usr/local/lib/python3.10/dist-packages (from requests>=2.19.0->pooch>=1.0->librosa) (3.3.2)\n",
            "Requirement already satisfied: idna<4,>=2.5 in /usr/local/lib/python3.10/dist-packages (from requests>=2.19.0->pooch>=1.0->librosa) (3.6)\n",
            "Requirement already satisfied: urllib3<3,>=1.21.1 in /usr/local/lib/python3.10/dist-packages (from requests>=2.19.0->pooch>=1.0->librosa) (2.0.7)\n",
            "Requirement already satisfied: certifi>=2017.4.17 in /usr/local/lib/python3.10/dist-packages (from requests>=2.19.0->pooch>=1.0->librosa) (2024.2.2)\n",
            "Installing collected packages: resampy, librosa\n",
            "Successfully installed librosa-0.10.1 resampy-0.4.3\n"
          ]
        }
      ],
      "source": [
        "!pip uninstall -y librosa resampy\n",
        "!pip install librosa resampy"
      ]
    },
    {
      "cell_type": "code",
      "source": [
        "import numpy as np\n",
        "import tensorflow as tf\n",
        "from tensorflow.keras import layers, models\n",
        "from sklearn.model_selection import train_test_split\n",
        "from sklearn.preprocessing import LabelEncoder\n",
        "import librosa\n",
        "import os"
      ],
      "metadata": {
        "id": "AtHGoGarfyVU"
      },
      "execution_count": null,
      "outputs": []
    },
    {
      "cell_type": "code",
      "source": [
        "pip install py7zr"
      ],
      "metadata": {
        "colab": {
          "base_uri": "https://localhost:8080/"
        },
        "id": "zlgT6hjeciTG",
        "outputId": "c75a1efb-79ef-4d16-d10d-d39ccdba298f"
      },
      "execution_count": null,
      "outputs": [
        {
          "output_type": "stream",
          "name": "stdout",
          "text": [
            "Requirement already satisfied: py7zr in /usr/local/lib/python3.10/dist-packages (0.21.0)\n",
            "Requirement already satisfied: texttable in /usr/local/lib/python3.10/dist-packages (from py7zr) (1.7.0)\n",
            "Requirement already satisfied: pycryptodomex>=3.16.0 in /usr/local/lib/python3.10/dist-packages (from py7zr) (3.20.0)\n",
            "Requirement already satisfied: pyzstd>=0.15.9 in /usr/local/lib/python3.10/dist-packages (from py7zr) (0.15.9)\n",
            "Requirement already satisfied: pyppmd<1.2.0,>=1.1.0 in /usr/local/lib/python3.10/dist-packages (from py7zr) (1.1.0)\n",
            "Requirement already satisfied: pybcj<1.1.0,>=1.0.0 in /usr/local/lib/python3.10/dist-packages (from py7zr) (1.0.2)\n",
            "Requirement already satisfied: multivolumefile>=0.2.3 in /usr/local/lib/python3.10/dist-packages (from py7zr) (0.2.3)\n",
            "Requirement already satisfied: inflate64<1.1.0,>=1.0.0 in /usr/local/lib/python3.10/dist-packages (from py7zr) (1.0.0)\n",
            "Requirement already satisfied: brotli>=1.1.0 in /usr/local/lib/python3.10/dist-packages (from py7zr) (1.1.0)\n",
            "Requirement already satisfied: psutil in /usr/local/lib/python3.10/dist-packages (from py7zr) (5.9.5)\n"
          ]
        }
      ]
    },
    {
      "cell_type": "code",
      "source": [
        "import py7zr\n",
        "import os\n",
        "\n",
        "# Path to your .7z file\n",
        "file_path = '/content/samples.7z'\n",
        "\n",
        "# Directory to extract the contents of the .7z file\n",
        "extracted_dir = '/content'\n",
        "\n",
        "# Create the directory if it doesn't exist\n",
        "os.makedirs(extracted_dir, exist_ok=True)\n",
        "\n",
        "# Extract the contents of the .7z file\n",
        "with py7zr.SevenZipFile(file_path, mode='r') as z:\n",
        "    z.extractall(path=extracted_dir)\n",
        "\n",
        "print(\"Extraction completed.\")"
      ],
      "metadata": {
        "colab": {
          "base_uri": "https://localhost:8080/"
        },
        "id": "sPWjT7WifzsK",
        "outputId": "0ed91eea-8307-45e4-e12e-7f6e5bc59014"
      },
      "execution_count": null,
      "outputs": [
        {
          "output_type": "stream",
          "name": "stdout",
          "text": [
            "Extraction completed.\n"
          ]
        }
      ]
    },
    {
      "cell_type": "code",
      "source": [
        "# Function to extract features from audio files\n",
        "# Load the dataset\n",
        "def load_data(test_size=0.2, chunk_duration=1):\n",
        "    x, y = [], []\n",
        "    for file in os.listdir('/content/samples'):\n",
        "        # Load audio file\n",
        "        audio, sample_rate = librosa.load('/content/samples/' + file, res_type='kaiser_fast')\n",
        "\n",
        "        # Calculate number of chunks\n",
        "        num_chunks = int(np.ceil(len(audio) / (sample_rate * chunk_duration)))\n",
        "\n",
        "        # Extract features from each chunk\n",
        "        for i in range(num_chunks):\n",
        "            start = int(i * sample_rate * chunk_duration)\n",
        "            end = min(len(audio), int((i + 1) * sample_rate * chunk_duration))\n",
        "            chunk_audio = audio[start:end]\n",
        "\n",
        "            # Extract features from audio chunk\n",
        "            feature = extract_features_from_audio(chunk_audio, sample_rate)\n",
        "            x.append(feature)\n",
        "\n",
        "            # Extract class label from the file name\n",
        "            class_label = file.split('(')[0]  # Assuming the class label is before the first '-'\n",
        "            y.append(class_label)\n",
        "\n",
        "    # Encode the labels\n",
        "    encoder = LabelEncoder()\n",
        "    y = encoder.fit_transform(y)\n",
        "\n",
        "    return train_test_split(np.array(x), y, test_size=test_size, random_state=42)\n",
        "\n"
      ],
      "metadata": {
        "id": "S8BB9_NRgO05"
      },
      "execution_count": null,
      "outputs": []
    },
    {
      "cell_type": "code",
      "source": [
        "def extract_features_from_audio(audio, sample_rate, mfcc=True, chroma=True, mel=True):\n",
        "    result = np.array([])\n",
        "    if mfcc:\n",
        "        mfccs = np.mean(librosa.feature.mfcc(y=audio, sr=sample_rate, n_mfcc=40, n_fft=1024).T, axis=0)  # Adjust n_fft\n",
        "        result = np.hstack((result, mfccs))\n",
        "    if chroma:\n",
        "        stft = np.abs(librosa.stft(audio, n_fft=1024))  # Adjust n_fft\n",
        "        chroma = np.mean(librosa.feature.chroma_stft(S=stft, sr=sample_rate).T, axis=0)\n",
        "        result = np.hstack((result, chroma))\n",
        "    if mel:\n",
        "        mel = np.mean(librosa.feature.melspectrogram(y=audio, sr=sample_rate, n_fft=1024).T, axis=0)  # Adjust n_fft\n",
        "        result = np.hstack((result, mel))\n",
        "    return result\n"
      ],
      "metadata": {
        "id": "d-NzO6nsggFI"
      },
      "execution_count": null,
      "outputs": []
    },
    {
      "cell_type": "code",
      "source": [
        "from tensorflow.keras import layers, models\n",
        "\n",
        "from tensorflow.keras.layers import Dropout\n",
        "\n",
        "def create_model_with_dropout(input_shape, num_classes, dropout_rate=0.5):\n",
        "    model = models.Sequential()\n",
        "    model.add(layers.Conv1D(32, 3, activation='relu', input_shape=input_shape))\n",
        "    model.add(layers.MaxPooling1D(2))\n",
        "    model.add(layers.Conv1D(64, 3, activation='relu'))\n",
        "    model.add(layers.MaxPooling1D(2))\n",
        "    model.add(layers.Conv1D(128, 3, activation='relu'))\n",
        "    model.add(layers.MaxPooling1D(2))\n",
        "    model.add(layers.Conv1D(128, 3, activation='relu'))\n",
        "    model.add(layers.MaxPooling1D(2))\n",
        "    model.add(layers.Flatten())\n",
        "    model.add(layers.Dense(512, activation='relu'))\n",
        "    model.add(Dropout(dropout_rate))  # Adding dropout layer\n",
        "    model.add(layers.Dense(num_classes, activation='softmax'))\n",
        "    return model\n",
        "\n",
        "# Load and split the dataset\n",
        "X_train, X_test, y_train, y_test = load_data(test_size=0.2)  # Assuming you have a function called load_data\n",
        "# Update input_shape to have 2 dimensions (samples, time_steps)\n",
        "input_shape = (X_train.shape[1], 1)\n",
        "num_classes = 4\n",
        "# Create the model with dropout\n",
        "model_with_dropout = create_model_with_dropout(input_shape=(X_train.shape[1], 1), num_classes=num_classes)\n",
        "\n",
        "# Compile the model\n",
        "model_with_dropout.compile(optimizer='adam',\n",
        "                           loss='sparse_categorical_crossentropy',\n",
        "                           metrics=['accuracy'])\n",
        "# Display model summary\n",
        "model_with_dropout.summary()  # Use model_with_dropout.summary() instead of model.summary()\n",
        "\n",
        "# Train the model\n",
        "model_with_dropout.fit(X_train, y_train, epochs=50, batch_size=32, validation_data=(X_test, y_test))\n",
        "\n",
        "# Evaluate the model\n",
        "test_loss, test_acc = model_with_dropout.evaluate(X_test, y_test)\n",
        "print('Test accuracy:', test_acc)\n",
        "\n"
      ],
      "metadata": {
        "colab": {
          "base_uri": "https://localhost:8080/"
        },
        "id": "QxWK1dGigmgN",
        "outputId": "ce9b0cc8-a4f0-4434-c42c-69ac090bc561"
      },
      "execution_count": null,
      "outputs": [
        {
          "output_type": "stream",
          "name": "stderr",
          "text": [
            "/usr/local/lib/python3.10/dist-packages/librosa/core/spectrum.py:257: UserWarning: n_fft=1024 is too large for input signal of length=70\n",
            "  warnings.warn(\n"
          ]
        },
        {
          "output_type": "stream",
          "name": "stdout",
          "text": [
            "Model: \"sequential_1\"\n",
            "_________________________________________________________________\n",
            " Layer (type)                Output Shape              Param #   \n",
            "=================================================================\n",
            " conv1d_4 (Conv1D)           (None, 178, 32)           128       \n",
            "                                                                 \n",
            " max_pooling1d_4 (MaxPoolin  (None, 89, 32)            0         \n",
            " g1D)                                                            \n",
            "                                                                 \n",
            " conv1d_5 (Conv1D)           (None, 87, 64)            6208      \n",
            "                                                                 \n",
            " max_pooling1d_5 (MaxPoolin  (None, 43, 64)            0         \n",
            " g1D)                                                            \n",
            "                                                                 \n",
            " conv1d_6 (Conv1D)           (None, 41, 128)           24704     \n",
            "                                                                 \n",
            " max_pooling1d_6 (MaxPoolin  (None, 20, 128)           0         \n",
            " g1D)                                                            \n",
            "                                                                 \n",
            " conv1d_7 (Conv1D)           (None, 18, 128)           49280     \n",
            "                                                                 \n",
            " max_pooling1d_7 (MaxPoolin  (None, 9, 128)            0         \n",
            " g1D)                                                            \n",
            "                                                                 \n",
            " flatten_1 (Flatten)         (None, 1152)              0         \n",
            "                                                                 \n",
            " dense_2 (Dense)             (None, 512)               590336    \n",
            "                                                                 \n",
            " dropout_1 (Dropout)         (None, 512)               0         \n",
            "                                                                 \n",
            " dense_3 (Dense)             (None, 4)                 2052      \n",
            "                                                                 \n",
            "=================================================================\n",
            "Total params: 672708 (2.57 MB)\n",
            "Trainable params: 672708 (2.57 MB)\n",
            "Non-trainable params: 0 (0.00 Byte)\n",
            "_________________________________________________________________\n",
            "Epoch 1/50\n",
            "16/16 [==============================] - 4s 89ms/step - loss: 1.3271 - accuracy: 0.3920 - val_loss: 1.1802 - val_accuracy: 0.4921\n",
            "Epoch 2/50\n",
            "16/16 [==============================] - 1s 43ms/step - loss: 1.0397 - accuracy: 0.5720 - val_loss: 0.9495 - val_accuracy: 0.6349\n",
            "Epoch 3/50\n",
            "16/16 [==============================] - 1s 31ms/step - loss: 0.8438 - accuracy: 0.6340 - val_loss: 0.8415 - val_accuracy: 0.6111\n",
            "Epoch 4/50\n",
            "16/16 [==============================] - 1s 34ms/step - loss: 0.7112 - accuracy: 0.7000 - val_loss: 0.7125 - val_accuracy: 0.7302\n",
            "Epoch 5/50\n",
            "16/16 [==============================] - 1s 45ms/step - loss: 0.6093 - accuracy: 0.7840 - val_loss: 0.6886 - val_accuracy: 0.7619\n",
            "Epoch 6/50\n",
            "16/16 [==============================] - 1s 37ms/step - loss: 0.5192 - accuracy: 0.8020 - val_loss: 0.5196 - val_accuracy: 0.7937\n",
            "Epoch 7/50\n",
            "16/16 [==============================] - 1s 35ms/step - loss: 0.4426 - accuracy: 0.8380 - val_loss: 0.5746 - val_accuracy: 0.8095\n",
            "Epoch 8/50\n",
            "16/16 [==============================] - 1s 37ms/step - loss: 0.4296 - accuracy: 0.8180 - val_loss: 0.6392 - val_accuracy: 0.7381\n",
            "Epoch 9/50\n",
            "16/16 [==============================] - 1s 39ms/step - loss: 0.3924 - accuracy: 0.8540 - val_loss: 0.5082 - val_accuracy: 0.7698\n",
            "Epoch 10/50\n",
            "16/16 [==============================] - 1s 33ms/step - loss: 0.3512 - accuracy: 0.8640 - val_loss: 0.3922 - val_accuracy: 0.8254\n",
            "Epoch 11/50\n",
            "16/16 [==============================] - 1s 34ms/step - loss: 0.2908 - accuracy: 0.8860 - val_loss: 0.4010 - val_accuracy: 0.8413\n",
            "Epoch 12/50\n",
            "16/16 [==============================] - 1s 33ms/step - loss: 0.2640 - accuracy: 0.9020 - val_loss: 0.4738 - val_accuracy: 0.8413\n",
            "Epoch 13/50\n",
            "16/16 [==============================] - 1s 32ms/step - loss: 0.2831 - accuracy: 0.8880 - val_loss: 0.3823 - val_accuracy: 0.8175\n",
            "Epoch 14/50\n",
            "16/16 [==============================] - 1s 32ms/step - loss: 0.2562 - accuracy: 0.9000 - val_loss: 0.3549 - val_accuracy: 0.8333\n",
            "Epoch 15/50\n",
            "16/16 [==============================] - 1s 44ms/step - loss: 0.1684 - accuracy: 0.9380 - val_loss: 0.3468 - val_accuracy: 0.8413\n",
            "Epoch 16/50\n",
            "16/16 [==============================] - 1s 37ms/step - loss: 0.1551 - accuracy: 0.9280 - val_loss: 0.2566 - val_accuracy: 0.8730\n",
            "Epoch 17/50\n",
            "16/16 [==============================] - 1s 36ms/step - loss: 0.1128 - accuracy: 0.9580 - val_loss: 0.3717 - val_accuracy: 0.8492\n",
            "Epoch 18/50\n",
            "16/16 [==============================] - 1s 34ms/step - loss: 0.1313 - accuracy: 0.9480 - val_loss: 0.4110 - val_accuracy: 0.8175\n",
            "Epoch 19/50\n",
            "16/16 [==============================] - 0s 31ms/step - loss: 0.1518 - accuracy: 0.9400 - val_loss: 0.3888 - val_accuracy: 0.8730\n",
            "Epoch 20/50\n",
            "16/16 [==============================] - 1s 50ms/step - loss: 0.1231 - accuracy: 0.9600 - val_loss: 0.4027 - val_accuracy: 0.8889\n",
            "Epoch 21/50\n",
            "16/16 [==============================] - 1s 52ms/step - loss: 0.1048 - accuracy: 0.9580 - val_loss: 0.3618 - val_accuracy: 0.8651\n",
            "Epoch 22/50\n",
            "16/16 [==============================] - 1s 50ms/step - loss: 0.0927 - accuracy: 0.9640 - val_loss: 0.3578 - val_accuracy: 0.8651\n",
            "Epoch 23/50\n",
            "16/16 [==============================] - 1s 54ms/step - loss: 0.1111 - accuracy: 0.9600 - val_loss: 0.4851 - val_accuracy: 0.8651\n",
            "Epoch 24/50\n",
            "16/16 [==============================] - 1s 52ms/step - loss: 0.0948 - accuracy: 0.9620 - val_loss: 0.3810 - val_accuracy: 0.8730\n",
            "Epoch 25/50\n",
            "16/16 [==============================] - 1s 35ms/step - loss: 0.1603 - accuracy: 0.9360 - val_loss: 0.6156 - val_accuracy: 0.8254\n",
            "Epoch 26/50\n",
            "16/16 [==============================] - 1s 34ms/step - loss: 0.1478 - accuracy: 0.9420 - val_loss: 0.4244 - val_accuracy: 0.8571\n",
            "Epoch 27/50\n",
            "16/16 [==============================] - 1s 34ms/step - loss: 0.1508 - accuracy: 0.9420 - val_loss: 0.5821 - val_accuracy: 0.8254\n",
            "Epoch 28/50\n",
            "16/16 [==============================] - 1s 32ms/step - loss: 0.1505 - accuracy: 0.9400 - val_loss: 0.2547 - val_accuracy: 0.8889\n",
            "Epoch 29/50\n",
            "16/16 [==============================] - 1s 33ms/step - loss: 0.0820 - accuracy: 0.9760 - val_loss: 0.2870 - val_accuracy: 0.8730\n",
            "Epoch 30/50\n",
            "16/16 [==============================] - 1s 32ms/step - loss: 0.0519 - accuracy: 0.9820 - val_loss: 0.3155 - val_accuracy: 0.8810\n",
            "Epoch 31/50\n",
            "16/16 [==============================] - 1s 32ms/step - loss: 0.0459 - accuracy: 0.9860 - val_loss: 0.2691 - val_accuracy: 0.8810\n",
            "Epoch 32/50\n",
            "16/16 [==============================] - 1s 32ms/step - loss: 0.0401 - accuracy: 0.9780 - val_loss: 0.3739 - val_accuracy: 0.8730\n",
            "Epoch 33/50\n",
            "16/16 [==============================] - 1s 32ms/step - loss: 0.0387 - accuracy: 0.9860 - val_loss: 0.2819 - val_accuracy: 0.8810\n",
            "Epoch 34/50\n",
            "16/16 [==============================] - 1s 33ms/step - loss: 0.0303 - accuracy: 0.9860 - val_loss: 0.3801 - val_accuracy: 0.8730\n",
            "Epoch 35/50\n",
            "16/16 [==============================] - 1s 34ms/step - loss: 0.0393 - accuracy: 0.9820 - val_loss: 0.4279 - val_accuracy: 0.8492\n",
            "Epoch 36/50\n",
            "16/16 [==============================] - 1s 34ms/step - loss: 0.0293 - accuracy: 0.9880 - val_loss: 0.2730 - val_accuracy: 0.9048\n",
            "Epoch 37/50\n",
            "16/16 [==============================] - 1s 34ms/step - loss: 0.0346 - accuracy: 0.9860 - val_loss: 0.2894 - val_accuracy: 0.8810\n",
            "Epoch 38/50\n",
            "16/16 [==============================] - 1s 32ms/step - loss: 0.0324 - accuracy: 0.9840 - val_loss: 0.3303 - val_accuracy: 0.8889\n",
            "Epoch 39/50\n",
            "16/16 [==============================] - 1s 32ms/step - loss: 0.0366 - accuracy: 0.9800 - val_loss: 0.3365 - val_accuracy: 0.8810\n",
            "Epoch 40/50\n",
            "16/16 [==============================] - 1s 33ms/step - loss: 0.0366 - accuracy: 0.9800 - val_loss: 0.2780 - val_accuracy: 0.8889\n",
            "Epoch 41/50\n",
            "16/16 [==============================] - 1s 32ms/step - loss: 0.0442 - accuracy: 0.9760 - val_loss: 0.3026 - val_accuracy: 0.8889\n",
            "Epoch 42/50\n",
            "16/16 [==============================] - 0s 31ms/step - loss: 0.0372 - accuracy: 0.9840 - val_loss: 0.3217 - val_accuracy: 0.8810\n",
            "Epoch 43/50\n",
            "16/16 [==============================] - 1s 32ms/step - loss: 0.0261 - accuracy: 0.9900 - val_loss: 0.3192 - val_accuracy: 0.8889\n",
            "Epoch 44/50\n",
            "16/16 [==============================] - 1s 45ms/step - loss: 0.0304 - accuracy: 0.9820 - val_loss: 0.3009 - val_accuracy: 0.8889\n",
            "Epoch 45/50\n",
            "16/16 [==============================] - 1s 52ms/step - loss: 0.0322 - accuracy: 0.9820 - val_loss: 0.3064 - val_accuracy: 0.8810\n",
            "Epoch 46/50\n",
            "16/16 [==============================] - 1s 51ms/step - loss: 0.0230 - accuracy: 0.9880 - val_loss: 0.3494 - val_accuracy: 0.8730\n",
            "Epoch 47/50\n",
            "16/16 [==============================] - 1s 55ms/step - loss: 0.0264 - accuracy: 0.9860 - val_loss: 0.3658 - val_accuracy: 0.8810\n",
            "Epoch 48/50\n",
            "16/16 [==============================] - 1s 58ms/step - loss: 0.0292 - accuracy: 0.9820 - val_loss: 0.3103 - val_accuracy: 0.8968\n",
            "Epoch 49/50\n",
            "16/16 [==============================] - 1s 57ms/step - loss: 0.0230 - accuracy: 0.9900 - val_loss: 0.3342 - val_accuracy: 0.8810\n",
            "Epoch 50/50\n",
            "16/16 [==============================] - 1s 44ms/step - loss: 0.0234 - accuracy: 0.9840 - val_loss: 0.3324 - val_accuracy: 0.8810\n",
            "4/4 [==============================] - 0s 10ms/step - loss: 0.3324 - accuracy: 0.8810\n",
            "Test accuracy: 0.8809523582458496\n"
          ]
        }
      ]
    }
  ]
}